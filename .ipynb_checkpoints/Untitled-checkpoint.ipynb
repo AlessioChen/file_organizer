{
 "cells": [
  {
   "cell_type": "code",
   "execution_count": 34,
   "metadata": {},
   "outputs": [],
   "source": [
    "import os \n",
    "import shutil\n"
   ]
  },
  {
   "cell_type": "code",
   "execution_count": 38,
   "metadata": {},
   "outputs": [
    {
     "ename": "IndentationError",
     "evalue": "unexpected indent (<ipython-input-38-64104d3cbcec>, line 8)",
     "output_type": "error",
     "traceback": [
      "\u001b[1;36m  File \u001b[1;32m\"<ipython-input-38-64104d3cbcec>\"\u001b[1;36m, line \u001b[1;32m8\u001b[0m\n\u001b[1;33m    if filename.endswith(\".mp3\"):\u001b[0m\n\u001b[1;37m    ^\u001b[0m\n\u001b[1;31mIndentationError\u001b[0m\u001b[1;31m:\u001b[0m unexpected indent\n"
     ]
    }
   ],
   "source": [
    "directory = r\"files\"\n",
    "for filename in os.listdir(directory):\n",
    "    if filename.endswith(\".jpg\"): \n",
    "        if not os.path.isdir(\"files\\images\"): \n",
    "            os.mkdir(\"files\\images\")\n",
    "        shutil.move(\"files\\{}\".format(filename), \"files\\images\")\n",
    "    \n",
    "         if filename.endswith(\".mp3\"): \n",
    "            if not os.path.isdir(\"files\\audio\"): \n",
    "                os.mkdir(\"files\\audio\")\n",
    "            shutil.move(\"files\\{}\".format(filename), \"files\\audio\")\n",
    "\n",
    "        if filename.endswith(\".docs\") or filename.endswith(\".txt\"): \n",
    "            if not os.path.isdir(\"files\\docs\"): \n",
    "                os.mkdir(\"files\\docs\")\n",
    "            shutil.move(\"files\\{}\".format(filename), \"files\\docs\")\n",
    "    \n",
    "     \n",
    "            "
   ]
  },
  {
   "cell_type": "code",
   "execution_count": null,
   "metadata": {},
   "outputs": [],
   "source": []
  }
 ],
 "metadata": {
  "kernelspec": {
   "display_name": "Python 3",
   "language": "python",
   "name": "python3"
  },
  "language_info": {
   "codemirror_mode": {
    "name": "ipython",
    "version": 3
   },
   "file_extension": ".py",
   "mimetype": "text/x-python",
   "name": "python",
   "nbconvert_exporter": "python",
   "pygments_lexer": "ipython3",
   "version": "3.8.2"
  }
 },
 "nbformat": 4,
 "nbformat_minor": 4
}
