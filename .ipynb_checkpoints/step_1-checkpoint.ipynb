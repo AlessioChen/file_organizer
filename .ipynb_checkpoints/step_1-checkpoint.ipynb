{
 "cells": [
  {
   "cell_type": "markdown",
   "metadata": {},
   "source": [
    "**Step 1**\n",
    "\n",
    "Script Python che itera in ordine alfabetico sui file della cartella files e, a seconda del tipo (audio, documento, immagine), li sposti nella relativa sottocartella (qui sotto trovi un esempio). \n",
    "Se la sottocartella non esiste, il tuo script dovrà crearla automaticamente.\n",
    "\n",
    "Durante il ciclo, lo script deve stampare le informazioni dei file: nome, tipo e dimensione in byte.\n",
    "\n",
    "Oltre a stamparne le informazioni via via che li sposti, tieni traccia dei file creando un documento *recap.csv* con le stesse informazioni. \n",
    "\n",
    "La struttura finale della cartella files dovrà essere:\n",
    "\n",
    "        - files            \n",
    "            - audio\n",
    "                - song1.mp3\n",
    "                - song2.mp3\n",
    "            - docs\n",
    "                - ciao.txt\n",
    "                - pippo.odt\n",
    "            - images\n",
    "                - bw.png\n",
    "                - daffodil.jpg\n",
    "                - trump.jpeg    \n",
    "            - recap.csv"
   ]
  },
  {
   "cell_type": "code",
   "execution_count": 2,
   "metadata": {},
   "outputs": [],
   "source": [
    "import os \n",
    "import shutil\n",
    "import csv \n"
   ]
  },
  {
   "cell_type": "markdown",
   "metadata": {},
   "source": [
    "Funzione che dato in input il nome del file, e la tipologia:\n",
    "1. stampa le info \n",
    "2. aggiungo le informazioni nel file di recap \n",
    "3. muove il file nella directory giusta "
   ]
  },
  {
   "cell_type": "code",
   "execution_count": 13,
   "metadata": {},
   "outputs": [],
   "source": [
    "def process_file(filename, path, file_type):\n",
    "    \n",
    "    #stampa le informazioni del file \n",
    "    name = filename.split(\".\")\n",
    "    size = os.path.getsize(\"{}/{}\".format(path,filename))\n",
    "    text = \"{} type:{} size:{}B \".format(name[0],file_type, size)\n",
    "    print(text)\n",
    "    \n",
    "    #scivo le informazioni nel file racap.csv\n",
    "    with open(\"{}/recap.csv\".format(path), \"a\", newline=\"\") as file: \n",
    "        writer = csv.writer(file)\n",
    "        writer.writerow( [name[0], \"type:{}\".format(file_type), \"size:{} B\".format(size)] )\n",
    "    \n",
    "    #muovo il file \n",
    "    shutil.move(\"{}\\{}\".format(path, filename), \"{}\\{}\".format(path, file_type))"
   ]
  },
  {
   "cell_type": "markdown",
   "metadata": {},
   "source": [
    "Itera su i file nella cartella \"files"
   ]
  },
  {
   "cell_type": "code",
   "execution_count": 17,
   "metadata": {},
   "outputs": [],
   "source": [
    "#liste dei formati accettati \n",
    "directory = r\"files\"\n",
    "img_exts = ['.jpeg', '.jpg', '.png']\n",
    "doc_exts = ['.txt', '.odt']\n",
    "audio_exts = ['.mp3']\n",
    "\n",
    "#creo le cartelle nel caso non esistessero \n",
    "for dirname in [\"Audio\", \"docs\", \"images\"]:\n",
    "    if not os.path.isdir(\"{}\\{}\".format(directory, dirname)): \n",
    "        os.mkdir(\"{}\\{}\".format(path, dirname))\n",
    "    \n",
    "#processo i file \n",
    "for file in os.listdir(directory):\n",
    "    \n",
    "    #separo nome file da estensione \n",
    "    name, ext = os.path.splitext(file)\n",
    "\n",
    "    \n",
    "    if ext in img_exts: \n",
    "        print(\"ext\")\n",
    "        process_file(file, directory, \"images\")\n",
    "    if ext in audio_exts:\n",
    "        process_file(file, directory, \"Audio\")\n",
    "    if ext in doc_exts:\n",
    "        process_file(file, directory, \"docs\")\n",
    "    \n",
    "   \n",
    "    \n",
    "     \n",
    "            "
   ]
  }
 ],
 "metadata": {
  "kernelspec": {
   "display_name": "Python 3",
   "language": "python",
   "name": "python3"
  },
  "language_info": {
   "codemirror_mode": {
    "name": "ipython",
    "version": 3
   },
   "file_extension": ".py",
   "mimetype": "text/x-python",
   "name": "python",
   "nbconvert_exporter": "python",
   "pygments_lexer": "ipython3",
   "version": "3.8.2"
  }
 },
 "nbformat": 4,
 "nbformat_minor": 4
}
