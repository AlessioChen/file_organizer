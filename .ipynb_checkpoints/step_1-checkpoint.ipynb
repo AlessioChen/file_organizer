{
 "cells": [
  {
   "cell_type": "code",
   "execution_count": 98,
   "metadata": {},
   "outputs": [],
   "source": [
    "import os \n",
    "import shutil\n",
    "import csv \n"
   ]
  },
  {
   "cell_type": "code",
   "execution_count": 134,
   "metadata": {},
   "outputs": [],
   "source": [
    "def process_file(filename, path, file_type):\n",
    "    \n",
    "    #stampa le informazioni del file \n",
    "    name = filename.split(\".\")\n",
    "    size = os.path.getsize(\"{}/{}\".format(path,filename))\n",
    "    text = \"{} type:{} size:{}B \".format(name[0],file_type, size)\n",
    "    print(text)\n",
    "    \n",
    "    #scivo le informazioni nel file racap.csv\n",
    "    with open(\"{}/recap.csv\".format(path), \"a\", newline=\"\") as file: \n",
    "        writer = csv.writer(file)\n",
    "        writer.writerow( [name[0], \"type:{}\".format(file_type), \"size:{} B\".format(size)] )\n",
    "    \n",
    "    #se non c'è la cartella la crea\n",
    "    if not os.path.isdir(\"{}\\{}\".format(path, file_type)): \n",
    "        os.mkdir(\"{}\\{}\".format(path, file_type))\n",
    "    \n",
    "    #muove il file \n",
    "    shutil.move(\"{}\\{}\".format(path, filename), \"{}\\{}\".format(path, file_type))"
   ]
  },
  {
   "cell_type": "code",
   "execution_count": 136,
   "metadata": {},
   "outputs": [
    {
     "name": "stdout",
     "output_type": "stream",
     "text": [
      "bw type:images size:94926B \n",
      "ciao type:docs size:12B \n",
      "daffodil type:images size:24657B \n",
      "mamma type:docs size:0B \n",
      "pippo type:docs size:8299B \n",
      "song1 type:Audio size:1087849B \n",
      "song2 type:Audio size:764176B \n",
      "trump type:images size:10195B \n"
     ]
    }
   ],
   "source": [
    "directory = r\"files\"\n",
    "for filename in os.listdir(directory):\n",
    "    if filename.endswith(\".jpg\") or filename.endswith(\".png\") or filename.endswith(\".jpeg\"):\n",
    "        process_file(filename, directory, \"images\")\n",
    "    if filename.endswith(\".mp3\"):\n",
    "        process_file(filename, directory, \"Audio\")\n",
    "    if filename.endswith(\".txt\") or filename.endswith(\"odt\"):\n",
    "        process_file(filename, directory, \"docs\")\n",
    "    \n",
    "   \n",
    "    \n",
    "     \n",
    "            "
   ]
  },
  {
   "cell_type": "code",
   "execution_count": 130,
   "metadata": {},
   "outputs": [],
   "source": [
    "with open('innovators.csv', 'w', newline='') as file:\n",
    "    writer = csv.writer(file)\n",
    "    writer.writerow([\"SN\", \"Name\", \"Contribution\"])\n",
    "    writer.writerow([1, \"Linus Torvalds\", \"Linux Kernel\"])\n",
    "    writer.writerow([2, \"Tim Berners-Lee\", \"World Wide Web\"])\n",
    "    writer.writerow([3, \"Guido van Rossum\", \"Python Programming\"])\n"
   ]
  }
 ],
 "metadata": {
  "kernelspec": {
   "display_name": "Python 3",
   "language": "python",
   "name": "python3"
  },
  "language_info": {
   "codemirror_mode": {
    "name": "ipython",
    "version": 3
   },
   "file_extension": ".py",
   "mimetype": "text/x-python",
   "name": "python",
   "nbconvert_exporter": "python",
   "pygments_lexer": "ipython3",
   "version": "3.8.2"
  }
 },
 "nbformat": 4,
 "nbformat_minor": 4
}
