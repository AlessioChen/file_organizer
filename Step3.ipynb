{
 "cells": [
  {
   "cell_type": "code",
   "execution_count": 5,
   "metadata": {},
   "outputs": [],
   "source": [
    "import os \n",
    "import numpy as np\n",
    "from PIL import Image \n",
    "import matplotlib.pyplot as plt\n",
    "from tabulate import tabulate\n",
    "\n"
   ]
  },
  {
   "cell_type": "code",
   "execution_count": 6,
   "metadata": {},
   "outputs": [
    {
     "name": "stdout",
     "output_type": "stream",
     "text": [
      "╒══════════╤═══════════╤═════════╤═════════════╤════════╤═══════╤═══════╤═════════╕\n",
      "│ name     │   heights │   width │   grayscale │      R │     G │     B │   ALPHA │\n",
      "╞══════════╪═══════════╪═════════╪═════════════╪════════╪═══════╪═══════╪═════════╡\n",
      "│ bw       │       512 │     512 │       21.48 │   0.00 │  0.00 │  0.00 │       0 │\n",
      "├──────────┼───────────┼─────────┼─────────────┼────────┼───────┼───────┼─────────┤\n",
      "│ daffodil │       500 │     335 │        0.00 │ 109.23 │ 85.52 │  4.77 │       0 │\n",
      "├──────────┼───────────┼─────────┼─────────────┼────────┼───────┼───────┼─────────┤\n",
      "│ trump    │       183 │     275 │        0.00 │  97.01 │ 98.99 │ 90.92 │       0 │\n",
      "╘══════════╧═══════════╧═════════╧═════════════╧════════╧═══════╧═══════╧═════════╛\n"
     ]
    }
   ],
   "source": [
    "directory = r\"files/images\"\n",
    "\n",
    "table = []\n",
    "for filename in os.listdir(directory): \n",
    "    R = 0 \n",
    "    G = 0 \n",
    "    B = 0 \n",
    "    grayscale = 0 \n",
    "    ALPHA = 0 \n",
    "    \n",
    "    image_path = \"{}/{}\".format(directory, filename)\n",
    "    image = Image.open(image_path)\n",
    "    np_img = np.array(image)\n",
    "    \n",
    "    name = filename.split(\".\")\n",
    "    name = name[0]\n",
    "    height, width = np_img.shape[0], np_img.shape[1]\n",
    "    \n",
    "\n",
    "    if image.mode==\"RGB\":\n",
    "        r, g, b = np_img[:,:,0] , np_img[:,:,1], np_img[:,:,2]\n",
    "        R, G, B = np.mean(r) , np.mean(g), np.mean(b)\n",
    "    if image.mode ==\"P\":\n",
    "        grayscale = np.mean(np_img)\n",
    "    if image.mode == \"RGBA\":\n",
    "        ALPHA = np.mean(np_img[:,:,3])\n",
    "        \n",
    "    table.append([name,height,width,grayscale,R,G,B, ALPHA])\n",
    "\n",
    "\n",
    "\n",
    "print(tabulate(table, \n",
    "               headers = [\"name\", \"heights\", \"width\", \"grayscale\", \"R\", \"G\", \"B\", \"ALPHA\"], #header\n",
    "               tablefmt=\"fancy_grid\", #formato tabella\n",
    "               floatfmt=\".2f\")) #formato numero dei decimali"
   ]
  },
  {
   "cell_type": "code",
   "execution_count": null,
   "metadata": {},
   "outputs": [],
   "source": []
  }
 ],
 "metadata": {
  "kernelspec": {
   "display_name": "Python 3",
   "language": "python",
   "name": "python3"
  },
  "language_info": {
   "codemirror_mode": {
    "name": "ipython",
    "version": 3
   },
   "file_extension": ".py",
   "mimetype": "text/x-python",
   "name": "python",
   "nbconvert_exporter": "python",
   "pygments_lexer": "ipython3",
   "version": "3.8.2"
  }
 },
 "nbformat": 4,
 "nbformat_minor": 4
}
